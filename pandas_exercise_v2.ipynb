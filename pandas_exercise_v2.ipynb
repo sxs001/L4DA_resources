{
  "cells": [
    {
      "cell_type": "markdown",
      "metadata": {
        "id": "view-in-github",
        "colab_type": "text"
      },
      "source": [
        "<a href=\"https://colab.research.google.com/github/tdmhub/L4DA_resources/blob/main/pandas_exercise_v2.ipynb\" target=\"_parent\"><img src=\"https://colab.research.google.com/assets/colab-badge.svg\" alt=\"Open In Colab\"/></a>"
      ]
    },
    {
      "cell_type": "markdown",
      "id": "3XE-GC7PvOBN",
      "metadata": {
        "id": "3XE-GC7PvOBN"
      },
      "source": [
        "# Pandas  exercise for Level 4 Data Analysis\n",
        "\n"
      ]
    },
    {
      "cell_type": "markdown",
      "id": "q72dXwaog4h7",
      "metadata": {
        "id": "q72dXwaog4h7"
      },
      "source": [
        "## 1. Setup\n"
      ]
    },
    {
      "cell_type": "markdown",
      "id": "vSvx8LjDp6Yh",
      "metadata": {
        "id": "vSvx8LjDp6Yh"
      },
      "source": [
        "### Import\n",
        "\n",
        "Before moving on to learn pandas first we need to install it and import it. If you install [Anaconda distributions](https://www.anaconda.com/) on your local machine or using [Google Colab](https://research.google.com/colaboratory) then pandas will already be available there, otherwise, you follow this installation process from [pandas official's website](https://pandas.pydata.org/docs/getting_started/install.html)."
      ]
    },
    {
      "cell_type": "code",
      "execution_count": null,
      "id": "e7dcee3a",
      "metadata": {
        "id": "e7dcee3a"
      },
      "outputs": [],
      "source": [
        "# Importing libraries\n",
        "import numpy as np\n",
        "import pandas as pd"
      ]
    },
    {
      "cell_type": "code",
      "execution_count": null,
      "id": "CeSsGkTMiMcI",
      "metadata": {
        "id": "CeSsGkTMiMcI"
      },
      "outputs": [],
      "source": [
        "# we can set numbers for how many rows and columns will be displayed\n",
        "pd.set_option('display.min_rows', 10) #default will be 10\n",
        "pd.set_option('display.max_columns', 20)"
      ]
    },
    {
      "cell_type": "markdown",
      "id": "68cb06b1",
      "metadata": {
        "id": "68cb06b1"
      },
      "source": [
        "## 2. Loading Different Data Formats Into a Pandas Data Frame\n",
        "\n",
        "\n"
      ]
    },
    {
      "cell_type": "markdown",
      "id": "7_X0klbRI24J",
      "metadata": {
        "id": "7_X0klbRI24J"
      },
      "source": [
        "### Reading CSV file\n"
      ]
    },
    {
      "cell_type": "code",
      "execution_count": null,
      "id": "56739039",
      "metadata": {
        "colab": {
          "base_uri": "https://localhost:8080/",
          "height": 143
        },
        "id": "56739039",
        "outputId": "ae132d1b-c3c2-48df-9022-ec2533a42832"
      },
      "outputs": [
        {
          "output_type": "execute_result",
          "data": {
            "text/plain": [
              "  Transaction_date  Transaction_ID  Gender   Age Marital_status State_names  \\\n",
              "0         1/1/2019          151200  Female  19.0         Single      Kansas   \n",
              "1         1/1/2019          151201    Male  49.0         Single    Illinois   \n",
              "2         1/1/2019          151202    Male  63.0        Married  New Mexico   \n",
              "\n",
              "  Segment Employees_status Payment_method  Referal  Amount_spent  \n",
              "0   Basic     Unemployment          Other      1.0       2051.36  \n",
              "1   Basic    self-employed           Card      0.0        544.04  \n",
              "2   Basic          workers         PayPal      1.0       1572.60  "
            ],
            "text/html": [
              "\n",
              "\n",
              "  <div id=\"df-2e777771-47c8-4524-8481-a1e71c4a0620\">\n",
              "    <div class=\"colab-df-container\">\n",
              "      <div>\n",
              "<style scoped>\n",
              "    .dataframe tbody tr th:only-of-type {\n",
              "        vertical-align: middle;\n",
              "    }\n",
              "\n",
              "    .dataframe tbody tr th {\n",
              "        vertical-align: top;\n",
              "    }\n",
              "\n",
              "    .dataframe thead th {\n",
              "        text-align: right;\n",
              "    }\n",
              "</style>\n",
              "<table border=\"1\" class=\"dataframe\">\n",
              "  <thead>\n",
              "    <tr style=\"text-align: right;\">\n",
              "      <th></th>\n",
              "      <th>Transaction_date</th>\n",
              "      <th>Transaction_ID</th>\n",
              "      <th>Gender</th>\n",
              "      <th>Age</th>\n",
              "      <th>Marital_status</th>\n",
              "      <th>State_names</th>\n",
              "      <th>Segment</th>\n",
              "      <th>Employees_status</th>\n",
              "      <th>Payment_method</th>\n",
              "      <th>Referal</th>\n",
              "      <th>Amount_spent</th>\n",
              "    </tr>\n",
              "  </thead>\n",
              "  <tbody>\n",
              "    <tr>\n",
              "      <th>0</th>\n",
              "      <td>1/1/2019</td>\n",
              "      <td>151200</td>\n",
              "      <td>Female</td>\n",
              "      <td>19.0</td>\n",
              "      <td>Single</td>\n",
              "      <td>Kansas</td>\n",
              "      <td>Basic</td>\n",
              "      <td>Unemployment</td>\n",
              "      <td>Other</td>\n",
              "      <td>1.0</td>\n",
              "      <td>2051.36</td>\n",
              "    </tr>\n",
              "    <tr>\n",
              "      <th>1</th>\n",
              "      <td>1/1/2019</td>\n",
              "      <td>151201</td>\n",
              "      <td>Male</td>\n",
              "      <td>49.0</td>\n",
              "      <td>Single</td>\n",
              "      <td>Illinois</td>\n",
              "      <td>Basic</td>\n",
              "      <td>self-employed</td>\n",
              "      <td>Card</td>\n",
              "      <td>0.0</td>\n",
              "      <td>544.04</td>\n",
              "    </tr>\n",
              "    <tr>\n",
              "      <th>2</th>\n",
              "      <td>1/1/2019</td>\n",
              "      <td>151202</td>\n",
              "      <td>Male</td>\n",
              "      <td>63.0</td>\n",
              "      <td>Married</td>\n",
              "      <td>New Mexico</td>\n",
              "      <td>Basic</td>\n",
              "      <td>workers</td>\n",
              "      <td>PayPal</td>\n",
              "      <td>1.0</td>\n",
              "      <td>1572.60</td>\n",
              "    </tr>\n",
              "  </tbody>\n",
              "</table>\n",
              "</div>\n",
              "      <button class=\"colab-df-convert\" onclick=\"convertToInteractive('df-2e777771-47c8-4524-8481-a1e71c4a0620')\"\n",
              "              title=\"Convert this dataframe to an interactive table.\"\n",
              "              style=\"display:none;\">\n",
              "\n",
              "  <svg xmlns=\"http://www.w3.org/2000/svg\" height=\"24px\"viewBox=\"0 0 24 24\"\n",
              "       width=\"24px\">\n",
              "    <path d=\"M0 0h24v24H0V0z\" fill=\"none\"/>\n",
              "    <path d=\"M18.56 5.44l.94 2.06.94-2.06 2.06-.94-2.06-.94-.94-2.06-.94 2.06-2.06.94zm-11 1L8.5 8.5l.94-2.06 2.06-.94-2.06-.94L8.5 2.5l-.94 2.06-2.06.94zm10 10l.94 2.06.94-2.06 2.06-.94-2.06-.94-.94-2.06-.94 2.06-2.06.94z\"/><path d=\"M17.41 7.96l-1.37-1.37c-.4-.4-.92-.59-1.43-.59-.52 0-1.04.2-1.43.59L10.3 9.45l-7.72 7.72c-.78.78-.78 2.05 0 2.83L4 21.41c.39.39.9.59 1.41.59.51 0 1.02-.2 1.41-.59l7.78-7.78 2.81-2.81c.8-.78.8-2.07 0-2.86zM5.41 20L4 18.59l7.72-7.72 1.47 1.35L5.41 20z\"/>\n",
              "  </svg>\n",
              "      </button>\n",
              "\n",
              "\n",
              "\n",
              "    <div id=\"df-d134c2e3-ab10-486b-8449-9b57548a0cb9\">\n",
              "      <button class=\"colab-df-quickchart\" onclick=\"quickchart('df-d134c2e3-ab10-486b-8449-9b57548a0cb9')\"\n",
              "              title=\"Suggest charts.\"\n",
              "              style=\"display:none;\">\n",
              "\n",
              "<svg xmlns=\"http://www.w3.org/2000/svg\" height=\"24px\"viewBox=\"0 0 24 24\"\n",
              "     width=\"24px\">\n",
              "    <g>\n",
              "        <path d=\"M19 3H5c-1.1 0-2 .9-2 2v14c0 1.1.9 2 2 2h14c1.1 0 2-.9 2-2V5c0-1.1-.9-2-2-2zM9 17H7v-7h2v7zm4 0h-2V7h2v10zm4 0h-2v-4h2v4z\"/>\n",
              "    </g>\n",
              "</svg>\n",
              "      </button>\n",
              "    </div>\n",
              "\n",
              "<style>\n",
              "  .colab-df-quickchart {\n",
              "    background-color: #E8F0FE;\n",
              "    border: none;\n",
              "    border-radius: 50%;\n",
              "    cursor: pointer;\n",
              "    display: none;\n",
              "    fill: #1967D2;\n",
              "    height: 32px;\n",
              "    padding: 0 0 0 0;\n",
              "    width: 32px;\n",
              "  }\n",
              "\n",
              "  .colab-df-quickchart:hover {\n",
              "    background-color: #E2EBFA;\n",
              "    box-shadow: 0px 1px 2px rgba(60, 64, 67, 0.3), 0px 1px 3px 1px rgba(60, 64, 67, 0.15);\n",
              "    fill: #174EA6;\n",
              "  }\n",
              "\n",
              "  [theme=dark] .colab-df-quickchart {\n",
              "    background-color: #3B4455;\n",
              "    fill: #D2E3FC;\n",
              "  }\n",
              "\n",
              "  [theme=dark] .colab-df-quickchart:hover {\n",
              "    background-color: #434B5C;\n",
              "    box-shadow: 0px 1px 3px 1px rgba(0, 0, 0, 0.15);\n",
              "    filter: drop-shadow(0px 1px 2px rgba(0, 0, 0, 0.3));\n",
              "    fill: #FFFFFF;\n",
              "  }\n",
              "</style>\n",
              "\n",
              "    <script>\n",
              "      async function quickchart(key) {\n",
              "        const containerElement = document.querySelector('#' + key);\n",
              "        const charts = await google.colab.kernel.invokeFunction(\n",
              "            'suggestCharts', [key], {});\n",
              "      }\n",
              "    </script>\n",
              "\n",
              "      <script>\n",
              "\n",
              "function displayQuickchartButton(domScope) {\n",
              "  let quickchartButtonEl =\n",
              "    domScope.querySelector('#df-d134c2e3-ab10-486b-8449-9b57548a0cb9 button.colab-df-quickchart');\n",
              "  quickchartButtonEl.style.display =\n",
              "    google.colab.kernel.accessAllowed ? 'block' : 'none';\n",
              "}\n",
              "\n",
              "        displayQuickchartButton(document);\n",
              "      </script>\n",
              "      <style>\n",
              "    .colab-df-container {\n",
              "      display:flex;\n",
              "      flex-wrap:wrap;\n",
              "      gap: 12px;\n",
              "    }\n",
              "\n",
              "    .colab-df-convert {\n",
              "      background-color: #E8F0FE;\n",
              "      border: none;\n",
              "      border-radius: 50%;\n",
              "      cursor: pointer;\n",
              "      display: none;\n",
              "      fill: #1967D2;\n",
              "      height: 32px;\n",
              "      padding: 0 0 0 0;\n",
              "      width: 32px;\n",
              "    }\n",
              "\n",
              "    .colab-df-convert:hover {\n",
              "      background-color: #E2EBFA;\n",
              "      box-shadow: 0px 1px 2px rgba(60, 64, 67, 0.3), 0px 1px 3px 1px rgba(60, 64, 67, 0.15);\n",
              "      fill: #174EA6;\n",
              "    }\n",
              "\n",
              "    [theme=dark] .colab-df-convert {\n",
              "      background-color: #3B4455;\n",
              "      fill: #D2E3FC;\n",
              "    }\n",
              "\n",
              "    [theme=dark] .colab-df-convert:hover {\n",
              "      background-color: #434B5C;\n",
              "      box-shadow: 0px 1px 3px 1px rgba(0, 0, 0, 0.15);\n",
              "      filter: drop-shadow(0px 1px 2px rgba(0, 0, 0, 0.3));\n",
              "      fill: #FFFFFF;\n",
              "    }\n",
              "  </style>\n",
              "\n",
              "      <script>\n",
              "        const buttonEl =\n",
              "          document.querySelector('#df-2e777771-47c8-4524-8481-a1e71c4a0620 button.colab-df-convert');\n",
              "        buttonEl.style.display =\n",
              "          google.colab.kernel.accessAllowed ? 'block' : 'none';\n",
              "\n",
              "        async function convertToInteractive(key) {\n",
              "          const element = document.querySelector('#df-2e777771-47c8-4524-8481-a1e71c4a0620');\n",
              "          const dataTable =\n",
              "            await google.colab.kernel.invokeFunction('convertToInteractive',\n",
              "                                                     [key], {});\n",
              "          if (!dataTable) return;\n",
              "\n",
              "          const docLinkHtml = 'Like what you see? Visit the ' +\n",
              "            '<a target=\"_blank\" href=https://colab.research.google.com/notebooks/data_table.ipynb>data table notebook</a>'\n",
              "            + ' to learn more about interactive tables.';\n",
              "          element.innerHTML = '';\n",
              "          dataTable['output_type'] = 'display_data';\n",
              "          await google.colab.output.renderOutput(dataTable, element);\n",
              "          const docLink = document.createElement('div');\n",
              "          docLink.innerHTML = docLinkHtml;\n",
              "          element.appendChild(docLink);\n",
              "        }\n",
              "      </script>\n",
              "    </div>\n",
              "  </div>\n"
            ]
          },
          "metadata": {},
          "execution_count": 10
        }
      ],
      "source": [
        "# read csv file\n",
        "\n",
        "url='https://raw.githubusercontent.com/tdmhub/L4DA_resources/main/online_store_customer_data.csv'\n",
        "df = df = pd.read_csv(url,delimiter=',')\n",
        "df.head(3)"
      ]
    },
    {
      "cell_type": "markdown",
      "id": "qNhba27PwpUa",
      "metadata": {
        "id": "qNhba27PwpUa"
      },
      "source": [
        "### Read CSV file from URL"
      ]
    },
    {
      "cell_type": "markdown",
      "id": "10a5b306",
      "metadata": {
        "id": "10a5b306"
      },
      "source": [
        "## 3. Data preprocessing\n",
        "Data preprocessing is the process of making raw data to clean data. This is the most crucial part of data the science. In this section, we will explore data first then we remove unwanted columns, remove duplicates, handle missing data, etc. After this step, we get clean data from raw data."
      ]
    },
    {
      "cell_type": "markdown",
      "id": "2098e35f",
      "metadata": {
        "id": "2098e35f"
      },
      "source": [
        "### 3.1 Data Exploring"
      ]
    },
    {
      "cell_type": "markdown",
      "id": "aHKv7GbtBGG5",
      "metadata": {
        "id": "aHKv7GbtBGG5"
      },
      "source": [
        "#### Retrieving rows from data frame."
      ]
    },
    {
      "cell_type": "code",
      "execution_count": null,
      "id": "cbc7a3df",
      "metadata": {
        "id": "cbc7a3df"
      },
      "outputs": [],
      "source": [
        "# display first 3 rows\n",
        "\n"
      ]
    },
    {
      "cell_type": "code",
      "execution_count": null,
      "id": "58d4f7c8",
      "metadata": {
        "id": "58d4f7c8"
      },
      "outputs": [],
      "source": [
        "# display last 10 rows\n"
      ]
    },
    {
      "cell_type": "markdown",
      "id": "1L2Pg_LiChrC",
      "metadata": {
        "id": "1L2Pg_LiChrC"
      },
      "source": [
        "#### Retrieving sample rows from data frame.\n",
        "\n"
      ]
    },
    {
      "cell_type": "code",
      "execution_count": null,
      "id": "36e099c7",
      "metadata": {
        "id": "36e099c7"
      },
      "outputs": [],
      "source": [
        "# Display random 3 sample rows\n"
      ]
    },
    {
      "cell_type": "markdown",
      "id": "A5NQiaXLlmS3",
      "metadata": {
        "id": "A5NQiaXLlmS3"
      },
      "source": [
        "#### Retrieving information about dataframe"
      ]
    },
    {
      "cell_type": "code",
      "execution_count": null,
      "id": "74baf9db",
      "metadata": {
        "id": "74baf9db"
      },
      "outputs": [],
      "source": []
    },
    {
      "cell_type": "code",
      "execution_count": null,
      "id": "40639f0a",
      "metadata": {
        "id": "40639f0a"
      },
      "outputs": [],
      "source": [
        "# display datatypes\n"
      ]
    },
    {
      "cell_type": "code",
      "execution_count": null,
      "id": "5ad7ad16",
      "metadata": {
        "id": "5ad7ad16"
      },
      "outputs": [],
      "source": [
        "# display counts of each data type dtype\n"
      ]
    },
    {
      "cell_type": "markdown",
      "id": "XfPcQQb2IH-u",
      "metadata": {
        "id": "XfPcQQb2IH-u"
      },
      "source": [
        "#### Display number of rows and columns."
      ]
    },
    {
      "cell_type": "code",
      "execution_count": null,
      "id": "740fc7ae",
      "metadata": {
        "id": "740fc7ae"
      },
      "outputs": [],
      "source": []
    },
    {
      "cell_type": "code",
      "execution_count": null,
      "id": "fdX_PamDE2Ko",
      "metadata": {
        "id": "fdX_PamDE2Ko"
      },
      "outputs": [],
      "source": [
        "#Display the column names\n"
      ]
    },
    {
      "cell_type": "code",
      "execution_count": null,
      "id": "T3t93wXoFTeL",
      "metadata": {
        "id": "T3t93wXoFTeL"
      },
      "outputs": [],
      "source": [
        "# display place columns first 3 \"State_names\"\n"
      ]
    },
    {
      "cell_type": "code",
      "execution_count": null,
      "id": "x7TKiUXBF4RE",
      "metadata": {
        "id": "x7TKiUXBF4RE"
      },
      "outputs": [],
      "source": [
        "# display first 4 rows of Age,\tMarital_status and State_names columns\n"
      ]
    },
    {
      "cell_type": "markdown",
      "id": "Bkh1oFtuoSiS",
      "metadata": {
        "id": "Bkh1oFtuoSiS"
      },
      "source": [
        "#### Retrieving a Range of Rows"
      ]
    },
    {
      "cell_type": "code",
      "execution_count": null,
      "id": "20qnnoofpPfn",
      "metadata": {
        "id": "20qnnoofpPfn"
      },
      "outputs": [],
      "source": [
        "# for display 5nd to 11th rows\n",
        "\n",
        "\n",
        "\n",
        "\n",
        "\n"
      ]
    },
    {
      "cell_type": "code",
      "source": [
        "# disaplay from row 2 to 7\n"
      ],
      "metadata": {
        "id": "5-IJfNVlDmEe"
      },
      "id": "5-IJfNVlDmEe",
      "execution_count": null,
      "outputs": []
    },
    {
      "cell_type": "code",
      "source": [
        "# for display last 5 rows\n"
      ],
      "metadata": {
        "id": "Thfouql5DmVp"
      },
      "id": "Thfouql5DmVp",
      "execution_count": null,
      "outputs": []
    },
    {
      "cell_type": "markdown",
      "id": "03dec553",
      "metadata": {
        "id": "03dec553"
      },
      "source": [
        " ### 3.2 Data Cleaning\n",
        "After the explore our datasets may need to clean them for better analysis. Data coming in from multiple sources so It's possible to have an error in some values. This is where data cleaning becomes extremely important. In this section, we will delete unwanted columns, rename columns, correct appropriate data types, etc.\n"
      ]
    },
    {
      "cell_type": "markdown",
      "id": "HGxEahSYJ0Ft",
      "metadata": {
        "id": "HGxEahSYJ0Ft"
      },
      "source": [
        "#### Delete Columns name"
      ]
    },
    {
      "cell_type": "code",
      "execution_count": null,
      "id": "43b62a5f",
      "metadata": {
        "id": "43b62a5f"
      },
      "outputs": [],
      "source": [
        "# Drop \t\"Referal\" unwanted column\n"
      ]
    },
    {
      "cell_type": "markdown",
      "id": "jtlvWfg7KR_Q",
      "metadata": {
        "id": "jtlvWfg7KR_Q"
      },
      "source": [
        "#### Change Columns name"
      ]
    },
    {
      "cell_type": "code",
      "execution_count": null,
      "id": "0StjAOVBKdMR",
      "metadata": {
        "id": "0StjAOVBKdMR"
      },
      "outputs": [],
      "source": [
        "# create new df_col dataframe from df.copy() method.\n",
        "df_col = df.copy()\n",
        "\n",
        "# rename column name  Amount_spent to payment\n"
      ]
    },
    {
      "cell_type": "markdown",
      "id": "HXspyxQwg5wn",
      "metadata": {
        "id": "HXspyxQwg5wn"
      },
      "source": [
        "#### Adding a new column to a DataFrame\n",
        "\n"
      ]
    },
    {
      "cell_type": "code",
      "execution_count": null,
      "id": "te1hhuRlhN-l",
      "metadata": {
        "id": "te1hhuRlhN-l"
      },
      "outputs": [],
      "source": [
        "# Add a new payment_pounds column which value will convert dollar amount into pounds\n",
        "df_col['payment_pounds'] ="
      ]
    },
    {
      "cell_type": "code",
      "execution_count": null,
      "id": "2bXmRJsHig4t",
      "metadata": {
        "id": "2bXmRJsHig4t"
      },
      "outputs": [],
      "source": [
        "#Check the new values\n"
      ]
    },
    {
      "cell_type": "markdown",
      "id": "dcf97600",
      "metadata": {
        "id": "dcf97600"
      },
      "source": [
        "### 3.3 Remove duplicate"
      ]
    },
    {
      "cell_type": "code",
      "execution_count": null,
      "id": "dc549528",
      "metadata": {
        "colab": {
          "base_uri": "https://localhost:8080/"
        },
        "id": "dc549528",
        "outputId": "accddf27-a88e-43ff-a7ca-ff53fb2f555a"
      },
      "outputs": [
        {
          "output_type": "execute_result",
          "data": {
            "text/plain": [
              "12"
            ]
          },
          "metadata": {},
          "execution_count": 12
        }
      ],
      "source": [
        "# Display duplicated entries\n",
        "df_col.duplicated().sum()"
      ]
    },
    {
      "cell_type": "code",
      "execution_count": null,
      "id": "00fe073d",
      "metadata": {
        "colab": {
          "base_uri": "https://localhost:8080/",
          "height": 426
        },
        "id": "00fe073d",
        "outputId": "dded5e75-cd0b-4b2a-be58-3ac6c9aef490"
      },
      "outputs": [
        {
          "output_type": "execute_result",
          "data": {
            "text/plain": [
              "    Transaction_date  Transaction_ID  Gender   Age Marital_status  \\\n",
              "64         1/25/2019          151259    Male  73.0        Married   \n",
              "65         1/26/2019          151260    Male  55.0        Married   \n",
              "66         1/26/2019          151261  Female  72.0        Married   \n",
              "67         1/26/2019          151262    Male  15.0        Married   \n",
              "68         1/27/2019          151263  Female  63.0         Single   \n",
              "109         2/6/2019          151297    Male  60.0        Married   \n",
              "110         2/7/2019          151298  Female  45.0        Married   \n",
              "111         2/8/2019          151299    Male  33.0         Single   \n",
              "112         2/8/2019          151300    Male  24.0        Married   \n",
              "113         2/8/2019          151301  Female  53.0         Single   \n",
              "114         2/8/2019          151302  Female  70.0        Married   \n",
              "115         2/8/2019          151303    Male  16.0        Married   \n",
              "\n",
              "        State_names   Segment Employees_status Payment_method  Referal  \\\n",
              "64    West Virginia     Basic        Employees         PayPal      0.0   \n",
              "65           Kansas     Basic        Employees          Other      1.0   \n",
              "66             Iowa    Silver     Unemployment         PayPal      NaN   \n",
              "67   South Carolina     Basic    self-employed          Other      1.0   \n",
              "68            Texas      Gold        Employees           Card      1.0   \n",
              "109            Utah    Silver     Unemployment          Other      1.0   \n",
              "110        Missouri  Platinum          workers          Other      1.0   \n",
              "111         Arizona    Silver          workers         PayPal      0.0   \n",
              "112  South Carolina     Basic     Unemployment          Other      0.0   \n",
              "113        Colorado     Basic    self-employed          Other      1.0   \n",
              "114   New Hampshire   Missing        Employees           Card      1.0   \n",
              "115        Nebraska     Basic          workers         PayPal      1.0   \n",
              "\n",
              "     Amount_spent  \n",
              "64        1397.09  \n",
              "65        1277.64  \n",
              "66         515.77  \n",
              "67         790.10  \n",
              "68        1218.56  \n",
              "109        433.20  \n",
              "110        929.89  \n",
              "111       2560.26  \n",
              "112           NaN  \n",
              "113       1888.69  \n",
              "114        685.49  \n",
              "115       1264.73  "
            ],
            "text/html": [
              "\n",
              "\n",
              "  <div id=\"df-43ae5dc7-0dca-417f-b53a-610bacc7642d\">\n",
              "    <div class=\"colab-df-container\">\n",
              "      <div>\n",
              "<style scoped>\n",
              "    .dataframe tbody tr th:only-of-type {\n",
              "        vertical-align: middle;\n",
              "    }\n",
              "\n",
              "    .dataframe tbody tr th {\n",
              "        vertical-align: top;\n",
              "    }\n",
              "\n",
              "    .dataframe thead th {\n",
              "        text-align: right;\n",
              "    }\n",
              "</style>\n",
              "<table border=\"1\" class=\"dataframe\">\n",
              "  <thead>\n",
              "    <tr style=\"text-align: right;\">\n",
              "      <th></th>\n",
              "      <th>Transaction_date</th>\n",
              "      <th>Transaction_ID</th>\n",
              "      <th>Gender</th>\n",
              "      <th>Age</th>\n",
              "      <th>Marital_status</th>\n",
              "      <th>State_names</th>\n",
              "      <th>Segment</th>\n",
              "      <th>Employees_status</th>\n",
              "      <th>Payment_method</th>\n",
              "      <th>Referal</th>\n",
              "      <th>Amount_spent</th>\n",
              "    </tr>\n",
              "  </thead>\n",
              "  <tbody>\n",
              "    <tr>\n",
              "      <th>64</th>\n",
              "      <td>1/25/2019</td>\n",
              "      <td>151259</td>\n",
              "      <td>Male</td>\n",
              "      <td>73.0</td>\n",
              "      <td>Married</td>\n",
              "      <td>West Virginia</td>\n",
              "      <td>Basic</td>\n",
              "      <td>Employees</td>\n",
              "      <td>PayPal</td>\n",
              "      <td>0.0</td>\n",
              "      <td>1397.09</td>\n",
              "    </tr>\n",
              "    <tr>\n",
              "      <th>65</th>\n",
              "      <td>1/26/2019</td>\n",
              "      <td>151260</td>\n",
              "      <td>Male</td>\n",
              "      <td>55.0</td>\n",
              "      <td>Married</td>\n",
              "      <td>Kansas</td>\n",
              "      <td>Basic</td>\n",
              "      <td>Employees</td>\n",
              "      <td>Other</td>\n",
              "      <td>1.0</td>\n",
              "      <td>1277.64</td>\n",
              "    </tr>\n",
              "    <tr>\n",
              "      <th>66</th>\n",
              "      <td>1/26/2019</td>\n",
              "      <td>151261</td>\n",
              "      <td>Female</td>\n",
              "      <td>72.0</td>\n",
              "      <td>Married</td>\n",
              "      <td>Iowa</td>\n",
              "      <td>Silver</td>\n",
              "      <td>Unemployment</td>\n",
              "      <td>PayPal</td>\n",
              "      <td>NaN</td>\n",
              "      <td>515.77</td>\n",
              "    </tr>\n",
              "    <tr>\n",
              "      <th>67</th>\n",
              "      <td>1/26/2019</td>\n",
              "      <td>151262</td>\n",
              "      <td>Male</td>\n",
              "      <td>15.0</td>\n",
              "      <td>Married</td>\n",
              "      <td>South Carolina</td>\n",
              "      <td>Basic</td>\n",
              "      <td>self-employed</td>\n",
              "      <td>Other</td>\n",
              "      <td>1.0</td>\n",
              "      <td>790.10</td>\n",
              "    </tr>\n",
              "    <tr>\n",
              "      <th>68</th>\n",
              "      <td>1/27/2019</td>\n",
              "      <td>151263</td>\n",
              "      <td>Female</td>\n",
              "      <td>63.0</td>\n",
              "      <td>Single</td>\n",
              "      <td>Texas</td>\n",
              "      <td>Gold</td>\n",
              "      <td>Employees</td>\n",
              "      <td>Card</td>\n",
              "      <td>1.0</td>\n",
              "      <td>1218.56</td>\n",
              "    </tr>\n",
              "    <tr>\n",
              "      <th>109</th>\n",
              "      <td>2/6/2019</td>\n",
              "      <td>151297</td>\n",
              "      <td>Male</td>\n",
              "      <td>60.0</td>\n",
              "      <td>Married</td>\n",
              "      <td>Utah</td>\n",
              "      <td>Silver</td>\n",
              "      <td>Unemployment</td>\n",
              "      <td>Other</td>\n",
              "      <td>1.0</td>\n",
              "      <td>433.20</td>\n",
              "    </tr>\n",
              "    <tr>\n",
              "      <th>110</th>\n",
              "      <td>2/7/2019</td>\n",
              "      <td>151298</td>\n",
              "      <td>Female</td>\n",
              "      <td>45.0</td>\n",
              "      <td>Married</td>\n",
              "      <td>Missouri</td>\n",
              "      <td>Platinum</td>\n",
              "      <td>workers</td>\n",
              "      <td>Other</td>\n",
              "      <td>1.0</td>\n",
              "      <td>929.89</td>\n",
              "    </tr>\n",
              "    <tr>\n",
              "      <th>111</th>\n",
              "      <td>2/8/2019</td>\n",
              "      <td>151299</td>\n",
              "      <td>Male</td>\n",
              "      <td>33.0</td>\n",
              "      <td>Single</td>\n",
              "      <td>Arizona</td>\n",
              "      <td>Silver</td>\n",
              "      <td>workers</td>\n",
              "      <td>PayPal</td>\n",
              "      <td>0.0</td>\n",
              "      <td>2560.26</td>\n",
              "    </tr>\n",
              "    <tr>\n",
              "      <th>112</th>\n",
              "      <td>2/8/2019</td>\n",
              "      <td>151300</td>\n",
              "      <td>Male</td>\n",
              "      <td>24.0</td>\n",
              "      <td>Married</td>\n",
              "      <td>South Carolina</td>\n",
              "      <td>Basic</td>\n",
              "      <td>Unemployment</td>\n",
              "      <td>Other</td>\n",
              "      <td>0.0</td>\n",
              "      <td>NaN</td>\n",
              "    </tr>\n",
              "    <tr>\n",
              "      <th>113</th>\n",
              "      <td>2/8/2019</td>\n",
              "      <td>151301</td>\n",
              "      <td>Female</td>\n",
              "      <td>53.0</td>\n",
              "      <td>Single</td>\n",
              "      <td>Colorado</td>\n",
              "      <td>Basic</td>\n",
              "      <td>self-employed</td>\n",
              "      <td>Other</td>\n",
              "      <td>1.0</td>\n",
              "      <td>1888.69</td>\n",
              "    </tr>\n",
              "    <tr>\n",
              "      <th>114</th>\n",
              "      <td>2/8/2019</td>\n",
              "      <td>151302</td>\n",
              "      <td>Female</td>\n",
              "      <td>70.0</td>\n",
              "      <td>Married</td>\n",
              "      <td>New Hampshire</td>\n",
              "      <td>Missing</td>\n",
              "      <td>Employees</td>\n",
              "      <td>Card</td>\n",
              "      <td>1.0</td>\n",
              "      <td>685.49</td>\n",
              "    </tr>\n",
              "    <tr>\n",
              "      <th>115</th>\n",
              "      <td>2/8/2019</td>\n",
              "      <td>151303</td>\n",
              "      <td>Male</td>\n",
              "      <td>16.0</td>\n",
              "      <td>Married</td>\n",
              "      <td>Nebraska</td>\n",
              "      <td>Basic</td>\n",
              "      <td>workers</td>\n",
              "      <td>PayPal</td>\n",
              "      <td>1.0</td>\n",
              "      <td>1264.73</td>\n",
              "    </tr>\n",
              "  </tbody>\n",
              "</table>\n",
              "</div>\n",
              "      <button class=\"colab-df-convert\" onclick=\"convertToInteractive('df-43ae5dc7-0dca-417f-b53a-610bacc7642d')\"\n",
              "              title=\"Convert this dataframe to an interactive table.\"\n",
              "              style=\"display:none;\">\n",
              "\n",
              "  <svg xmlns=\"http://www.w3.org/2000/svg\" height=\"24px\"viewBox=\"0 0 24 24\"\n",
              "       width=\"24px\">\n",
              "    <path d=\"M0 0h24v24H0V0z\" fill=\"none\"/>\n",
              "    <path d=\"M18.56 5.44l.94 2.06.94-2.06 2.06-.94-2.06-.94-.94-2.06-.94 2.06-2.06.94zm-11 1L8.5 8.5l.94-2.06 2.06-.94-2.06-.94L8.5 2.5l-.94 2.06-2.06.94zm10 10l.94 2.06.94-2.06 2.06-.94-2.06-.94-.94-2.06-.94 2.06-2.06.94z\"/><path d=\"M17.41 7.96l-1.37-1.37c-.4-.4-.92-.59-1.43-.59-.52 0-1.04.2-1.43.59L10.3 9.45l-7.72 7.72c-.78.78-.78 2.05 0 2.83L4 21.41c.39.39.9.59 1.41.59.51 0 1.02-.2 1.41-.59l7.78-7.78 2.81-2.81c.8-.78.8-2.07 0-2.86zM5.41 20L4 18.59l7.72-7.72 1.47 1.35L5.41 20z\"/>\n",
              "  </svg>\n",
              "      </button>\n",
              "\n",
              "\n",
              "\n",
              "    <div id=\"df-d527806c-06bf-44b6-aa0b-490011a8156f\">\n",
              "      <button class=\"colab-df-quickchart\" onclick=\"quickchart('df-d527806c-06bf-44b6-aa0b-490011a8156f')\"\n",
              "              title=\"Suggest charts.\"\n",
              "              style=\"display:none;\">\n",
              "\n",
              "<svg xmlns=\"http://www.w3.org/2000/svg\" height=\"24px\"viewBox=\"0 0 24 24\"\n",
              "     width=\"24px\">\n",
              "    <g>\n",
              "        <path d=\"M19 3H5c-1.1 0-2 .9-2 2v14c0 1.1.9 2 2 2h14c1.1 0 2-.9 2-2V5c0-1.1-.9-2-2-2zM9 17H7v-7h2v7zm4 0h-2V7h2v10zm4 0h-2v-4h2v4z\"/>\n",
              "    </g>\n",
              "</svg>\n",
              "      </button>\n",
              "    </div>\n",
              "\n",
              "<style>\n",
              "  .colab-df-quickchart {\n",
              "    background-color: #E8F0FE;\n",
              "    border: none;\n",
              "    border-radius: 50%;\n",
              "    cursor: pointer;\n",
              "    display: none;\n",
              "    fill: #1967D2;\n",
              "    height: 32px;\n",
              "    padding: 0 0 0 0;\n",
              "    width: 32px;\n",
              "  }\n",
              "\n",
              "  .colab-df-quickchart:hover {\n",
              "    background-color: #E2EBFA;\n",
              "    box-shadow: 0px 1px 2px rgba(60, 64, 67, 0.3), 0px 1px 3px 1px rgba(60, 64, 67, 0.15);\n",
              "    fill: #174EA6;\n",
              "  }\n",
              "\n",
              "  [theme=dark] .colab-df-quickchart {\n",
              "    background-color: #3B4455;\n",
              "    fill: #D2E3FC;\n",
              "  }\n",
              "\n",
              "  [theme=dark] .colab-df-quickchart:hover {\n",
              "    background-color: #434B5C;\n",
              "    box-shadow: 0px 1px 3px 1px rgba(0, 0, 0, 0.15);\n",
              "    filter: drop-shadow(0px 1px 2px rgba(0, 0, 0, 0.3));\n",
              "    fill: #FFFFFF;\n",
              "  }\n",
              "</style>\n",
              "\n",
              "    <script>\n",
              "      async function quickchart(key) {\n",
              "        const containerElement = document.querySelector('#' + key);\n",
              "        const charts = await google.colab.kernel.invokeFunction(\n",
              "            'suggestCharts', [key], {});\n",
              "      }\n",
              "    </script>\n",
              "\n",
              "      <script>\n",
              "\n",
              "function displayQuickchartButton(domScope) {\n",
              "  let quickchartButtonEl =\n",
              "    domScope.querySelector('#df-d527806c-06bf-44b6-aa0b-490011a8156f button.colab-df-quickchart');\n",
              "  quickchartButtonEl.style.display =\n",
              "    google.colab.kernel.accessAllowed ? 'block' : 'none';\n",
              "}\n",
              "\n",
              "        displayQuickchartButton(document);\n",
              "      </script>\n",
              "      <style>\n",
              "    .colab-df-container {\n",
              "      display:flex;\n",
              "      flex-wrap:wrap;\n",
              "      gap: 12px;\n",
              "    }\n",
              "\n",
              "    .colab-df-convert {\n",
              "      background-color: #E8F0FE;\n",
              "      border: none;\n",
              "      border-radius: 50%;\n",
              "      cursor: pointer;\n",
              "      display: none;\n",
              "      fill: #1967D2;\n",
              "      height: 32px;\n",
              "      padding: 0 0 0 0;\n",
              "      width: 32px;\n",
              "    }\n",
              "\n",
              "    .colab-df-convert:hover {\n",
              "      background-color: #E2EBFA;\n",
              "      box-shadow: 0px 1px 2px rgba(60, 64, 67, 0.3), 0px 1px 3px 1px rgba(60, 64, 67, 0.15);\n",
              "      fill: #174EA6;\n",
              "    }\n",
              "\n",
              "    [theme=dark] .colab-df-convert {\n",
              "      background-color: #3B4455;\n",
              "      fill: #D2E3FC;\n",
              "    }\n",
              "\n",
              "    [theme=dark] .colab-df-convert:hover {\n",
              "      background-color: #434B5C;\n",
              "      box-shadow: 0px 1px 3px 1px rgba(0, 0, 0, 0.15);\n",
              "      filter: drop-shadow(0px 1px 2px rgba(0, 0, 0, 0.3));\n",
              "      fill: #FFFFFF;\n",
              "    }\n",
              "  </style>\n",
              "\n",
              "      <script>\n",
              "        const buttonEl =\n",
              "          document.querySelector('#df-43ae5dc7-0dca-417f-b53a-610bacc7642d button.colab-df-convert');\n",
              "        buttonEl.style.display =\n",
              "          google.colab.kernel.accessAllowed ? 'block' : 'none';\n",
              "\n",
              "        async function convertToInteractive(key) {\n",
              "          const element = document.querySelector('#df-43ae5dc7-0dca-417f-b53a-610bacc7642d');\n",
              "          const dataTable =\n",
              "            await google.colab.kernel.invokeFunction('convertToInteractive',\n",
              "                                                     [key], {});\n",
              "          if (!dataTable) return;\n",
              "\n",
              "          const docLinkHtml = 'Like what you see? Visit the ' +\n",
              "            '<a target=\"_blank\" href=https://colab.research.google.com/notebooks/data_table.ipynb>data table notebook</a>'\n",
              "            + ' to learn more about interactive tables.';\n",
              "          element.innerHTML = '';\n",
              "          dataTable['output_type'] = 'display_data';\n",
              "          await google.colab.output.renderOutput(dataTable, element);\n",
              "          const docLink = document.createElement('div');\n",
              "          docLink.innerHTML = docLinkHtml;\n",
              "          element.appendChild(docLink);\n",
              "        }\n",
              "      </script>\n",
              "    </div>\n",
              "  </div>\n"
            ]
          },
          "metadata": {},
          "execution_count": 13
        }
      ],
      "source": [
        "# duplicate rows dispaly, keep arguments will--- 'first', 'last' and False\n",
        "duplicate_value = df_col.duplicated(keep='first')\n",
        "\n",
        "#Show the duplicates\n",
        "df_col[duplicate_value]"
      ]
    },
    {
      "cell_type": "code",
      "execution_count": null,
      "id": "6fb4d3eb",
      "metadata": {
        "id": "6fb4d3eb"
      },
      "outputs": [],
      "source": [
        "# dropping ALL duplicate values\n",
        "df_col.drop_duplicates(keep = 'first', inplace = True)"
      ]
    },
    {
      "cell_type": "markdown",
      "id": "de1e3272",
      "metadata": {
        "id": "de1e3272"
      },
      "source": [
        "### 3.4 Handling missing values"
      ]
    },
    {
      "cell_type": "markdown",
      "id": "9y1tYxbzLWw1",
      "metadata": {
        "id": "9y1tYxbzLWw1"
      },
      "source": [
        "Handling missing values in the common task in the data pre-processing part. For many reasons most of the time we will encounter missing values. Without dealing with this we can't do the proper model building. For this section first, we will find out missing values then we decided how to handle them. We can handle this by removing affected columns or rows or replacing appropriate values there."
      ]
    },
    {
      "cell_type": "markdown",
      "id": "44ff83e8",
      "metadata": {
        "id": "44ff83e8"
      },
      "source": [
        "#### Display missing values information"
      ]
    },
    {
      "cell_type": "code",
      "execution_count": null,
      "id": "e6ecbaa3",
      "metadata": {
        "colab": {
          "base_uri": "https://localhost:8080/"
        },
        "id": "e6ecbaa3",
        "outputId": "52ef0424-e906-40ac-be42-8daaf9f4d6fe"
      },
      "outputs": [
        {
          "output_type": "execute_result",
          "data": {
            "text/plain": [
              "Amount_spent        241\n",
              "Referal             154\n",
              "Age                  42\n",
              "Gender               28\n",
              "Employees_status     26\n",
              "Transaction_date      0\n",
              "Transaction_ID        0\n",
              "Marital_status        0\n",
              "State_names           0\n",
              "Segment               0\n",
              "Payment_method        0\n",
              "dtype: int64"
            ]
          },
          "metadata": {},
          "execution_count": 15
        }
      ],
      "source": [
        "# Display missing value count and sort them least to most\n"
      ]
    },
    {
      "cell_type": "markdown",
      "id": "5UgQzwrITZk3",
      "metadata": {
        "id": "5UgQzwrITZk3"
      },
      "source": [
        "#### Delete Nan rows"
      ]
    },
    {
      "cell_type": "markdown",
      "id": "5CV_qntnTpja",
      "metadata": {
        "id": "5CV_qntnTpja"
      },
      "source": [
        "If we have less Nan value then we can delete entire rows by `dropna()` function. For this function, we will add columns name in subset parameter."
      ]
    },
    {
      "cell_type": "code",
      "execution_count": null,
      "id": "3bbb429f",
      "metadata": {
        "id": "3bbb429f"
      },
      "outputs": [],
      "source": [
        "# df copy to df_copy\n",
        "df_new = df_col.copy()"
      ]
    },
    {
      "cell_type": "code",
      "execution_count": null,
      "id": "99fe65d5",
      "metadata": {
        "id": "99fe65d5"
      },
      "outputs": [],
      "source": [
        "#Delete Nan rows of Age Columns\n"
      ]
    },
    {
      "cell_type": "code",
      "source": [],
      "metadata": {
        "id": "nMfD9bdQGq-9"
      },
      "id": "nMfD9bdQGq-9",
      "execution_count": null,
      "outputs": []
    },
    {
      "cell_type": "code",
      "source": [
        "#Check there an no Nan in netChange\n"
      ],
      "metadata": {
        "colab": {
          "base_uri": "https://localhost:8080/"
        },
        "id": "ROq2XuR6GOvv",
        "outputId": "bfa44137-3a73-474e-f4c1-e98d4b2c09f1"
      },
      "id": "ROq2XuR6GOvv",
      "execution_count": null,
      "outputs": [
        {
          "output_type": "execute_result",
          "data": {
            "text/plain": [
              "Amount_spent        237\n",
              "Referal             150\n",
              "Gender               27\n",
              "Transaction_date      0\n",
              "Transaction_ID        0\n",
              "Age                   0\n",
              "Marital_status        0\n",
              "State_names           0\n",
              "Segment               0\n",
              "Employees_status      0\n",
              "Payment_method        0\n",
              "dtype: int64"
            ]
          },
          "metadata": {},
          "execution_count": 22
        }
      ]
    },
    {
      "cell_type": "markdown",
      "id": "6bxAq9hnUK4R",
      "metadata": {
        "id": "6bxAq9hnUK4R"
      },
      "source": [
        "#### Delete entire columns"
      ]
    },
    {
      "cell_type": "markdown",
      "id": "UIsVP0RAUS75",
      "metadata": {
        "id": "UIsVP0RAUS75"
      },
      "source": [
        "If we have a large number of nan values in particular columns then dropping those columns might be a good decision rather than imputing."
      ]
    },
    {
      "cell_type": "code",
      "execution_count": null,
      "id": "4400782c",
      "metadata": {
        "id": "4400782c"
      },
      "outputs": [],
      "source": [
        "Drop Referal column\n",
        "\n"
      ]
    },
    {
      "cell_type": "markdown",
      "id": "615ac388",
      "metadata": {
        "id": "615ac388"
      },
      "source": [
        "**Method 2** - Impute Mean, Median and Mode"
      ]
    },
    {
      "cell_type": "code",
      "execution_count": null,
      "id": "5a25d8d4",
      "metadata": {
        "id": "5a25d8d4"
      },
      "outputs": [],
      "source": [
        "# Impute Mean in age columns\n",
        "\n",
        "#Impute Median in age column\n",
        "\n"
      ]
    },
    {
      "cell_type": "markdown",
      "id": "4e3b208b",
      "metadata": {
        "id": "4e3b208b"
      },
      "source": [
        "### 5.1. Calculating Basic statistical measurement"
      ]
    },
    {
      "cell_type": "code",
      "execution_count": null,
      "id": "36f30a11",
      "metadata": {
        "id": "36f30a11"
      },
      "outputs": [],
      "source": [
        "df_new.describe().T"
      ]
    },
    {
      "cell_type": "markdown",
      "id": "n6s8tjhWLkxS",
      "metadata": {
        "id": "n6s8tjhWLkxS"
      },
      "source": [
        "We know already above code will display only numeric columns basic statistical information. for object or category columns we can use `describe(include=object)` ."
      ]
    },
    {
      "cell_type": "code",
      "execution_count": null,
      "id": "bedd8b71",
      "metadata": {
        "id": "bedd8b71"
      },
      "outputs": [],
      "source": [
        "df_new.describe(include=object).T"
      ]
    }
  ],
  "metadata": {
    "colab": {
      "provenance": [],
      "include_colab_link": true
    },
    "kernelspec": {
      "display_name": "Python 3",
      "language": "python",
      "name": "python3"
    },
    "language_info": {
      "codemirror_mode": {
        "name": "ipython",
        "version": 3
      },
      "file_extension": ".py",
      "mimetype": "text/x-python",
      "name": "python",
      "nbconvert_exporter": "python",
      "pygments_lexer": "ipython3",
      "version": "3.8.8"
    }
  },
  "nbformat": 4,
  "nbformat_minor": 5
}