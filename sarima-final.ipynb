{
 "cells": [
  {
   "cell_type": "code",
   "execution_count": 1,
   "id": "06f7da35",
   "metadata": {},
   "outputs": [],
   "source": [
    "file='./jj.csv'"
   ]
  },
  {
   "cell_type": "code",
   "execution_count": 2,
   "id": "ce06a651",
   "metadata": {},
   "outputs": [],
   "source": [
    "from statsmodels.graphics.tsaplots import plot_pacf\n",
    "from statsmodels.graphics.tsaplots import plot_acf\n",
    "from statsmodels.tsa.statespace.sarimax import SARIMAX\n",
    "from statsmodels.tsa.holtwinters import ExponentialSmoothing\n",
    "from statsmodels.tsa.stattools import adfuller\n",
    "import matplotlib.pyplot as plt\n",
    "#from tqdm import tqdm_notebook\n",
    "from tqdm.notebook import tqdm\n",
    "import tqdm as tqdm\n",
    "import numpy as np\n",
    "import pandas as pd\n",
    "from itertools import product"
   ]
  },
  {
   "cell_type": "code",
   "execution_count": 3,
   "id": "73a5dbc9",
   "metadata": {},
   "outputs": [],
   "source": [
    "data = pd.read_csv(file)"
   ]
  },
  {
   "cell_type": "code",
   "execution_count": 4,
   "id": "20281423",
   "metadata": {},
   "outputs": [
    {
     "name": "stdout",
     "output_type": "stream",
     "text": [
      "          date   data\n",
      "0   1960-01-01   0.71\n",
      "1   1960-04-01   0.63\n",
      "2   1960-07-02   0.85\n",
      "3   1960-10-01   0.44\n",
      "4   1961-01-01   0.61\n",
      "..         ...    ...\n",
      "79  1979-10-01   9.99\n",
      "80  1980-01-01  16.20\n",
      "81  1980-04-01  14.67\n",
      "82  1980-07-02  16.02\n",
      "83  1980-10-01  11.61\n",
      "\n",
      "[84 rows x 2 columns]\n"
     ]
    }
   ],
   "source": [
    "print(data)"
   ]
  },
  {
   "cell_type": "code",
   "execution_count": null,
   "id": "0f199685",
   "metadata": {},
   "outputs": [],
   "source": [
    "plt.figure(figsize=[15, 7.5]); # Set dimensions for figure\n",
    "plt.plot(data['date'], data['data'])\n",
    "plt.title('Quarterly EPS for Johnson & Johnson')\n",
    "plt.ylabel('EPS per share ($)')\n",
    "plt.xlabel('Date')\n",
    "plt.xticks(rotation=90)\n",
    "plt.grid(True)\n",
    "plt.show()"
   ]
  },
  {
   "cell_type": "code",
   "execution_count": null,
   "id": "51d78a43",
   "metadata": {},
   "outputs": [],
   "source": [
    "plot_pacf(data['data']);\n",
    "plot_acf(data['data']);"
   ]
  },
  {
   "cell_type": "markdown",
   "id": "80c9aa37",
   "metadata": {},
   "source": [
    "ACF gradually decreasing \n",
    "PACF cuts after x lag. \n",
    "Suggests AR (x) \n",
    "\n",
    "\n",
    "ACF cuts after x lag  \n",
    "PACF gradual decresaing \n",
    "MA(x)\n",
    "\n"
   ]
  },
  {
   "cell_type": "code",
   "execution_count": null,
   "id": "56a2ba1b",
   "metadata": {},
   "outputs": [],
   "source": [
    "ad_fuller_result = adfuller(data['data'])\n",
    "alpha=0.05\n",
    "print(\"======= ADF raw results=====\")\n",
    "print(ad_fuller_result)\n",
    "print(\"======= ADF raw results=====\")\n",
    "adf_statistic_result = adfuller(data['data'])\n",
    "adf_statistic=ad_fuller_result[0]\n",
    "p_value=ad_fuller_result[1]\n",
    "print(f'ADF Statistic: {adf_statistic}')\n",
    "print(f'p-value: {p_value}')\n",
    "if (p_value < alpha):\n",
    "    print(f'series is stationary p_value={p_value}')\n",
    "else:\n",
    "    print(f'series is NOT stationary p_value={p_value}')"
   ]
  },
  {
   "cell_type": "code",
   "execution_count": null,
   "id": "2864721b",
   "metadata": {},
   "outputs": [],
   "source": [
    "data.columns"
   ]
  },
  {
   "cell_type": "code",
   "execution_count": null,
   "id": "ab06725c",
   "metadata": {},
   "outputs": [],
   "source": [
    "data_diff_series=data['data'].diff(1)"
   ]
  },
  {
   "cell_type": "code",
   "execution_count": null,
   "id": "8bf585bf",
   "metadata": {},
   "outputs": [],
   "source": [
    "data_diff_df=pd.concat([data['date'], data_diff_series], axis=1).reset_index()"
   ]
  },
  {
   "cell_type": "code",
   "execution_count": null,
   "id": "ac510d7a",
   "metadata": {},
   "outputs": [],
   "source": [
    "data_diff_df\n"
   ]
  },
  {
   "cell_type": "code",
   "execution_count": null,
   "id": "7e4f9ef1",
   "metadata": {},
   "outputs": [],
   "source": [
    "data_diff_df=data_diff_df.dropna()\n"
   ]
  },
  {
   "cell_type": "code",
   "execution_count": null,
   "id": "f57e6f26",
   "metadata": {},
   "outputs": [],
   "source": [
    "data_diff_df"
   ]
  },
  {
   "cell_type": "code",
   "execution_count": null,
   "id": "65a9537c",
   "metadata": {},
   "outputs": [],
   "source": [
    "plt.figure(figsize=[15, 7.5]); # Set dimensions for figure\n",
    "plt.plot(data_diff_df['date'], data_diff_df['data'])\n",
    "plt.title('Quarterly EPS for Johnson & Johnson')\n",
    "plt.ylabel('EPS per share ($)')\n",
    "plt.xlabel('Date')\n",
    "plt.xticks(rotation=90)\n",
    "plt.grid(True)\n",
    "plt.show()"
   ]
  },
  {
   "cell_type": "code",
   "execution_count": null,
   "id": "86898952",
   "metadata": {},
   "outputs": [],
   "source": [
    "ad_fuller_result = adfuller(data_diff_df['data'])\n",
    "alpha=0.05\n",
    "print(\"======= ADF raw results=====\")\n",
    "print(ad_fuller_result)\n",
    "print(\"======= ADF raw results=====\")\n",
    "adf_statistic=ad_fuller_result[0]\n",
    "p_value=ad_fuller_result[1]\n",
    "print(f'ADF Statistic: {adf_statistic}')\n",
    "print(f'p-value: {p_value}')\n",
    "if (p_value < alpha):\n",
    "    print(f'series is stationary p_value={p_value}')\n",
    "else:\n",
    "    print(f'series is NOT stationary p_value={p_value}')"
   ]
  },
  {
   "cell_type": "code",
   "execution_count": null,
   "id": "5c4a9b22",
   "metadata": {},
   "outputs": [],
   "source": [
    "ad_fuller_result[1]"
   ]
  },
  {
   "cell_type": "markdown",
   "id": "0b1ff045",
   "metadata": {},
   "source": [
    "Still not stationary therefore take the log - looks like increaseing sd over sample"
   ]
  },
  {
   "cell_type": "code",
   "execution_count": null,
   "id": "a979648a",
   "metadata": {},
   "outputs": [],
   "source": [
    "#data_diff_series = np.log(data_diff_df['data'])\n",
    "data_log_series = np.log(data['data'])\n",
    "data_diff_and_log_df=pd.concat([data['date'], data_log_series], axis=1).reset_index()\n"
   ]
  },
  {
   "cell_type": "code",
   "execution_count": null,
   "id": "d745fcf6",
   "metadata": {},
   "outputs": [],
   "source": [
    "plt.figure(figsize=[15, 7.5]); # Set dimensions for figure\n",
    "plt.plot(data_diff_and_log_df['date'], data_diff_and_log_df['data'])\n",
    "plt.title('Quarterly EPS for Johnson & Johnson')\n",
    "plt.ylabel('EPS per share ($)')\n",
    "plt.xlabel('Date')\n",
    "plt.xticks(rotation=90)\n",
    "plt.grid(True)\n",
    "plt.show()"
   ]
  },
  {
   "cell_type": "markdown",
   "id": "5398830c",
   "metadata": {},
   "source": [
    "Amplitude compressed using log but still increasing"
   ]
  },
  {
   "cell_type": "code",
   "execution_count": null,
   "id": "4c6debf3",
   "metadata": {},
   "outputs": [],
   "source": [
    "#Data querterly therefore take the first from forth to give stationary series\n",
    "data_log_diff_series=data_log_series.diff(4)\n",
    "data_log_diff_df=pd.concat([data['date'], data_log_diff_series], axis=1).reset_index()\n",
    "data_log_diff_df=data_log_diff_df.dropna()"
   ]
  },
  {
   "cell_type": "code",
   "execution_count": null,
   "id": "85876619",
   "metadata": {},
   "outputs": [],
   "source": [
    "data_log_diff_df"
   ]
  },
  {
   "cell_type": "code",
   "execution_count": null,
   "id": "2306939b",
   "metadata": {},
   "outputs": [],
   "source": [
    "plt.figure(figsize=[15, 7.5]); # Set dimensions for figure\n",
    "plt.plot(data_log_diff_df['date'], data_log_diff_df['data'])\n",
    "plt.title('Quarterly EPS for Johnson & Johnson')\n",
    "plt.ylabel('EPS per share ($)')\n",
    "plt.xlabel('Date')\n",
    "plt.xticks(rotation=90)\n",
    "plt.grid(True)\n",
    "plt.show()"
   ]
  },
  {
   "cell_type": "code",
   "execution_count": null,
   "id": "8ad16ab9",
   "metadata": {},
   "outputs": [],
   "source": [
    "ad_fuller_result = adfuller(data_log_diff_df['data'])\n",
    "alpha=0.05\n",
    "print(\"======= ADF raw results=====\")\n",
    "print(ad_fuller_result)\n",
    "print(\"======= ADF raw results=====\")\n",
    "adf_statistic=ad_fuller_result[0]\n",
    "p_value=ad_fuller_result[1]\n",
    "print(f'ADF Statistic: {adf_statistic}')\n",
    "print(f'p-value: {p_value}')\n",
    "if (p_value < alpha):\n",
    "    print(f'series is stationary p_value={p_value}')\n",
    "else:\n",
    "    print(f'series is NOT stationary p_value={p_value}')"
   ]
  },
  {
   "cell_type": "code",
   "execution_count": null,
   "id": "dc35e923",
   "metadata": {},
   "outputs": [],
   "source": [
    "plot_pacf(data_log_diff_df['data']);\n",
    "plot_acf(data_log_diff_df['data']);"
   ]
  },
  {
   "cell_type": "markdown",
   "id": "36cf453b",
   "metadata": {},
   "source": [
    "PACF that we have a significant peak at lag 1\n",
    "suggests an AR(1)\n",
    "\n",
    "Another peak at lag 4, \n",
    "seasonal autoregressive process of order 1 (P = 1).\n",
    "\n",
    "ACF plot significant peak at lag 1\n",
    "suggesting a non-seasonal MA(1) process.\n",
    "\n",
    "However use multiple parameters and AIC to measure"
   ]
  },
  {
   "cell_type": "code",
   "execution_count": null,
   "id": "8488bea7",
   "metadata": {},
   "outputs": [],
   "source": [
    "def optimize_SARIMA(parameters_list, d, D, s, data):\n",
    "    \"\"\"\n",
    "        Return dataframe with parameters, corresponding AIC and SSE\n",
    "        \n",
    "        parameters_list - list with (p, q, P, Q) tuples\n",
    "        d - integration order\n",
    "        D - seasonal integration order\n",
    "        s - length of season\n",
    "        exog - the exogenous variable\n",
    "    \"\"\"\n",
    "    \n",
    "    results = []\n",
    "    \n",
    "    #for param in tqdm.notebook.tqdm(parameters_list):\n",
    "    for param in parameters_list:\n",
    "        try: \n",
    "            model = SARIMAX(data, order=(param[0], d, param[1]), seasonal_order=(param[2], D, param[3], s)).fit(disp=-1)\n",
    "        except:\n",
    "            continue\n",
    "            \n",
    "        aic = model.aic\n",
    "        results.append([param, aic])\n",
    "        \n",
    "    result_df = pd.DataFrame(results)\n",
    "    result_df.columns = ['(p,q)x(P,Q)', 'AIC']\n",
    "    #Sort in ascending order, lower AIC is better\n",
    "    result_df = result_df.sort_values(by='AIC', ascending=True).reset_index(drop=True)\n",
    "    \n",
    "    return result_df"
   ]
  },
  {
   "cell_type": "code",
   "execution_count": null,
   "id": "f7c1ca0d",
   "metadata": {},
   "outputs": [],
   "source": [
    "p = range(0, 4, 1)\n",
    "d = 1\n",
    "q = range(0, 4, 1)\n",
    "P = range(0, 4, 1)\n",
    "D = 1\n",
    "Q = range(0, 4, 1)\n",
    "s = 4\n",
    "parameters = product(p, q, P, Q)\n",
    "parameters_list = list(parameters)\n",
    "print(len(parameters_list))\n",
    "parameters = product(p, q, P, Q)\n",
    "parameters_list = list(parameters)\n",
    "print(len(parameters_list))"
   ]
  },
  {
   "cell_type": "code",
   "execution_count": null,
   "id": "b976e47c",
   "metadata": {},
   "outputs": [],
   "source": [
    "result_df=optimize_SARIMA(parameters_list, d, D, s, data['data'])\n",
    "print(result_df)"
   ]
  },
  {
   "cell_type": "code",
   "execution_count": null,
   "id": "c7dda66b",
   "metadata": {},
   "outputs": [],
   "source": [
    "print(result_df)\n",
    "result_df[result_df['AIC'] == result_df['AIC'].min()]"
   ]
  },
  {
   "cell_type": "code",
   "execution_count": null,
   "id": "d2fab0a5",
   "metadata": {},
   "outputs": [],
   "source": [
    "best_model = SARIMAX(data['data'], order=(2, d, 3), seasonal_order=(1, D, 0, 4)).fit(dis=-1)\n",
    "print(best_model.summary())"
   ]
  },
  {
   "cell_type": "code",
   "execution_count": null,
   "id": "e4898ce7",
   "metadata": {},
   "outputs": [],
   "source": [
    "data['arima_model'] = best_model.fittedvalues\n",
    "data['arima_model'][:4+1] = np.NaN\n",
    "forecast = best_model.predict(start=data.shape[0], end=data.shape[0] + 8)\n",
    "forecast = data['arima_model'].append(forecast)\n",
    "plt.figure(figsize=(15, 7.5))\n",
    "plt.plot(forecast, color='r', label='model')\n",
    "plt.axvspan(data.index[-1], forecast.index[-1], alpha=0.5, color='lightgrey')\n",
    "plt.plot(data['data'], label='actual')\n",
    "plt.legend()\n",
    "plt.show()"
   ]
  },
  {
   "cell_type": "code",
   "execution_count": null,
   "id": "06a05f3a",
   "metadata": {},
   "outputs": [],
   "source": []
  },
  {
   "cell_type": "code",
   "execution_count": null,
   "id": "14b76e3f",
   "metadata": {},
   "outputs": [],
   "source": []
  }
 ],
 "metadata": {
  "kernelspec": {
   "display_name": "Python 3 (ipykernel)",
   "language": "python",
   "name": "python3"
  },
  "language_info": {
   "codemirror_mode": {
    "name": "ipython",
    "version": 3
   },
   "file_extension": ".py",
   "mimetype": "text/x-python",
   "name": "python",
   "nbconvert_exporter": "python",
   "pygments_lexer": "ipython3",
   "version": "3.9.7"
  }
 },
 "nbformat": 4,
 "nbformat_minor": 5
}
