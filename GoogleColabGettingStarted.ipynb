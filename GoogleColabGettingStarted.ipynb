{
  "nbformat": 4,
  "nbformat_minor": 0,
  "metadata": {
    "colab": {
      "provenance": [],
      "authorship_tag": "ABX9TyNfUajwrqynY/doaKyPw2g6",
      "include_colab_link": true
    },
    "kernelspec": {
      "name": "python3",
      "display_name": "Python 3"
    },
    "language_info": {
      "name": "python"
    }
  },
  "cells": [
    {
      "cell_type": "markdown",
      "metadata": {
        "id": "view-in-github",
        "colab_type": "text"
      },
      "source": [
        "<a href=\"https://colab.research.google.com/github/tdmhub/L4DA_resources/blob/main/GoogleColabGettingStarted.ipynb\" target=\"_parent\"><img src=\"https://colab.research.google.com/assets/colab-badge.svg\" alt=\"Open In Colab\"/></a>"
      ]
    },
    {
      "cell_type": "markdown",
      "source": [
        "## Review the getting started information here\n",
        "https://colab.research.google.com/?utm_source=scs-index#scrollTo=Nma_JWh-W-IF\n",
        "\n"
      ],
      "metadata": {
        "id": "VNUO0a4DNBMf"
      }
    },
    {
      "cell_type": "code",
      "execution_count": null,
      "metadata": {
        "id": "qCKhmXEuK6Cn"
      },
      "outputs": [],
      "source": [
        "print(\"Hello, World!\")\n"
      ]
    },
    {
      "cell_type": "code",
      "source": [
        "name = input(\"Enter your name: \")\n",
        "print(\"Hello, \" + name + \"!\")\n"
      ],
      "metadata": {
        "id": "4OFq7r2TLO56"
      },
      "execution_count": null,
      "outputs": []
    },
    {
      "cell_type": "code",
      "source": [
        "num1 = float(input(\"Enter a number: \"))\n",
        "num2 = float(input(\"Enter another number: \"))\n",
        "result = num1 + num2\n",
        "print(\"Sum:\", result)\n"
      ],
      "metadata": {
        "id": "q8_1q4LWLbH7"
      },
      "execution_count": null,
      "outputs": []
    },
    {
      "cell_type": "code",
      "source": [
        "num = int(input(\"Enter a number: \"))\n",
        "if num % 2 == 0:\n",
        "    print(num, \"is even\")\n",
        "else:\n",
        "    print(num, \"is odd\")\n"
      ],
      "metadata": {
        "id": "WRxT61TzLc1j"
      },
      "execution_count": null,
      "outputs": []
    },
    {
      "cell_type": "code",
      "source": [
        "num = int(input(\"Enter a number: \"))\n",
        "if num % 2 == 0:\n",
        "    print(num, \"is even\")\n",
        "else:\n",
        "    print(num, \"is odd\")\n"
      ],
      "metadata": {
        "id": "tOjBcJ7CLdxb"
      },
      "execution_count": null,
      "outputs": []
    },
    {
      "cell_type": "code",
      "source": [
        "fruits = [\"apple\", \"banana\", \"cherry\"]\n",
        "for fruit in fruits:\n",
        "    print(fruit)\n"
      ],
      "metadata": {
        "id": "iVm5G1OqLf5c"
      },
      "execution_count": null,
      "outputs": []
    },
    {
      "cell_type": "code",
      "source": [
        "text = \"Hello, Python\"\n",
        "print(text[0])       # Accessing characters\n",
        "print(text[7:13])    # Slicing\n",
        "print(len(text))     # Length of the string\n"
      ],
      "metadata": {
        "id": "EBSfkrPELjEk"
      },
      "execution_count": null,
      "outputs": []
    },
    {
      "cell_type": "markdown",
      "source": [
        "Connect to google drive"
      ],
      "metadata": {
        "id": "9BKeM1C9MMq4"
      }
    },
    {
      "cell_type": "code",
      "source": [
        "from google.colab import drive\n",
        "drive.mount('/content/drive')"
      ],
      "metadata": {
        "id": "tzHI31XRLs_-"
      },
      "execution_count": null,
      "outputs": []
    },
    {
      "cell_type": "markdown",
      "source": [
        "Create a data file called mydatafile write \"Hello Google Drive\" to it"
      ],
      "metadata": {
        "id": "IgECZhfgMbni"
      }
    },
    {
      "cell_type": "code",
      "source": [],
      "metadata": {
        "id": "MJKBbfiZM82_"
      },
      "execution_count": null,
      "outputs": []
    },
    {
      "cell_type": "code",
      "source": [
        "with open('/content/drive/My Drive/mydatafile.txt', 'w') as f:\n",
        "  f.write('Hello Google Drive!')\n",
        "!cat /content/drive/My\\ Drive/mydatafile.txt"
      ],
      "metadata": {
        "id": "AC6PGxWGMQcZ"
      },
      "execution_count": null,
      "outputs": []
    }
  ]
}