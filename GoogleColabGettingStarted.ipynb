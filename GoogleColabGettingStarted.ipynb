{
  "nbformat": 4,
  "nbformat_minor": 0,
  "metadata": {
    "colab": {
      "provenance": [],
      "mount_file_id": "1ZXV9SVzEdmumTk61PWc40Ep_IRuto2c_",
      "authorship_tag": "ABX9TyOyhYFivRKNhcGWlGDhdkhv",
      "include_colab_link": true
    },
    "kernelspec": {
      "name": "python3",
      "display_name": "Python 3"
    },
    "language_info": {
      "name": "python"
    }
  },
  "cells": [
    {
      "cell_type": "markdown",
      "metadata": {
        "id": "view-in-github",
        "colab_type": "text"
      },
      "source": [
        "<a href=\"https://colab.research.google.com/github/tdmhub/L4DA_resources/blob/main/GoogleColabGettingStarted.ipynb\" target=\"_parent\"><img src=\"https://colab.research.google.com/assets/colab-badge.svg\" alt=\"Open In Colab\"/></a>"
      ]
    },
    {
      "cell_type": "markdown",
      "source": [
        "## Review the getting started information here\n",
        "https://colab.research.google.com/?utm_source=scs-index#scrollTo=Nma_JWh-W-IF\n",
        "\n"
      ],
      "metadata": {
        "id": "VNUO0a4DNBMf"
      }
    },
    {
      "cell_type": "code",
      "execution_count": null,
      "metadata": {
        "id": "qCKhmXEuK6Cn"
      },
      "outputs": [],
      "source": [
        "print(\"Hello, World!\")\n"
      ]
    },
    {
      "cell_type": "markdown",
      "source": [
        "1. Change the text to print \"Hello\""
      ],
      "metadata": {
        "id": "FtLxBdumnydy"
      }
    },
    {
      "cell_type": "code",
      "source": [
        "name = input(\"Enter your name: \")\n",
        "print(\"Hello, \" + name + \"!\")\n"
      ],
      "metadata": {
        "id": "4OFq7r2TLO56"
      },
      "execution_count": null,
      "outputs": []
    },
    {
      "cell_type": "code",
      "source": [
        "num1 = float(input(\"Enter a number: \"))\n",
        "num2 = float(input(\"Enter another number: \"))\n",
        "result = num1 + num2\n",
        "print(\"Sum:\", result)\n"
      ],
      "metadata": {
        "id": "q8_1q4LWLbH7"
      },
      "execution_count": null,
      "outputs": []
    },
    {
      "cell_type": "markdown",
      "source": [
        "2. Change the program to input a third number and add that to the result\n"
      ],
      "metadata": {
        "id": "X6-Pw20moEAL"
      }
    },
    {
      "cell_type": "code",
      "source": [
        "num = int(input(\"Enter a number: \"))\n",
        "if num % 2 == 0:\n",
        "    print(num, \"is even\")\n",
        "else:\n",
        "    print(num, \"is odd\")\n"
      ],
      "metadata": {
        "id": "WRxT61TzLc1j"
      },
      "execution_count": null,
      "outputs": []
    },
    {
      "cell_type": "markdown",
      "source": [
        "3. Change the program to check if num is negative (<0)"
      ],
      "metadata": {
        "id": "X6qP4NCKoUPe"
      }
    },
    {
      "cell_type": "markdown",
      "source": [],
      "metadata": {
        "id": "d1eLR5xjn6vr"
      }
    },
    {
      "cell_type": "code",
      "source": [
        "fruits = [\"apple\", \"banana\", \"cherry\"]\n",
        "for fruit in fruits:\n",
        "    print(fruit)\n"
      ],
      "metadata": {
        "id": "iVm5G1OqLf5c"
      },
      "execution_count": null,
      "outputs": []
    },
    {
      "cell_type": "markdown",
      "source": [
        "4. Add an extra fruit (raspberry) to this list"
      ],
      "metadata": {
        "id": "5_GuD0NtorVA"
      }
    },
    {
      "cell_type": "code",
      "source": [
        "text = \"Hello, Python\"\n",
        "print(text[0])       # Accessing characters\n",
        "print(text[7:13])    # Slicing\n",
        "print(len(text))     # Length of the string\n"
      ],
      "metadata": {
        "id": "EBSfkrPELjEk"
      },
      "execution_count": null,
      "outputs": []
    },
    {
      "cell_type": "markdown",
      "source": [
        "Connect to google drive"
      ],
      "metadata": {
        "id": "9BKeM1C9MMq4"
      }
    },
    {
      "cell_type": "markdown",
      "source": [
        "5. Change the progam to print\n",
        "* The second character\n",
        "* Characters 3-5\n",
        "\n",
        "\n",
        "\n",
        "\n",
        "\n",
        "\n",
        "*   List item\n",
        "*   List item\n",
        "\n"
      ],
      "metadata": {
        "id": "bqBc9_7io5DZ"
      }
    },
    {
      "cell_type": "code",
      "source": [
        "from google.colab import drive\n",
        "drive.mount('/content/drive')"
      ],
      "metadata": {
        "id": "tzHI31XRLs_-"
      },
      "execution_count": null,
      "outputs": []
    },
    {
      "cell_type": "code",
      "source": [
        "with open('/content/drive/My Drive/mydatafile.txt', 'w') as f:\n",
        "  f.write('Hello Google Drive!')\n",
        "!cat /content/drive/My\\ Drive/mydatafile.txt"
      ],
      "metadata": {
        "id": "AC6PGxWGMQcZ"
      },
      "execution_count": null,
      "outputs": []
    },
    {
      "cell_type": "markdown",
      "source": [
        "5. Change the program to write \"This my data\" to a file called /content/drive/My Drive/mydata.txt"
      ],
      "metadata": {
        "id": "PuIR56Jkp6YK"
      }
    }
  ]
}